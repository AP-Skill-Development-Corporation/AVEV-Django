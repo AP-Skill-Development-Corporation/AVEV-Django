{
 "cells": [
  {
   "cell_type": "code",
   "execution_count": 7,
   "id": "13645bcb",
   "metadata": {},
   "outputs": [
    {
     "name": "stdout",
     "output_type": "stream",
     "text": [
      "Enter a value: 45\n",
      "Enter b value: 56\n",
      "101\n",
      "Addition of 45 and 56 is: 101\n",
      "Addition of 45 and 56 is: 101\n",
      "Addition of 56 and 45 is: 101\n",
      "Addition of 45 and 56 is: 101\n"
     ]
    }
   ],
   "source": [
    "x = int(input(\"Enter a value: \"))\n",
    "y = int(input(\"Enter b value: \"))\n",
    "print(x+y)\n",
    "print(\"Addition of\",x,\"and\",y,\"is:\",x+y)\n",
    "print(\"Addition of %d and %d is: %d\"%(x,y,x+y))\n",
    "print(\"Addition of {1} and {0} is: {2}\".format(x,y,x+y))\n",
    "print(f\"Addition of {x} and {y} is: {x+y}\")"
   ]
  },
  {
   "cell_type": "code",
   "execution_count": 10,
   "id": "dc88b391",
   "metadata": {},
   "outputs": [
    {
     "name": "stdout",
     "output_type": "stream",
     "text": [
      "45,56,12\n",
      "['45', '56', '12'] <class 'list'>\n"
     ]
    }
   ],
   "source": [
    "p = input().split(\",\")\n",
    "print(p,type(p))"
   ]
  },
  {
   "cell_type": "code",
   "execution_count": 9,
   "id": "5e3b97f6",
   "metadata": {},
   "outputs": [
    {
     "name": "stdout",
     "output_type": "stream",
     "text": [
      "10 <class 'int'>\n"
     ]
    }
   ],
   "source": [
    "a = 10\n",
    "print(a,type(a))"
   ]
  },
  {
   "cell_type": "code",
   "execution_count": 11,
   "id": "9da0b73b",
   "metadata": {},
   "outputs": [
    {
     "name": "stdout",
     "output_type": "stream",
     "text": [
      "['__add__', '__class__', '__contains__', '__delattr__', '__delitem__', '__dir__', '__doc__', '__eq__', '__format__', '__ge__', '__getattribute__', '__getitem__', '__gt__', '__hash__', '__iadd__', '__imul__', '__init__', '__init_subclass__', '__iter__', '__le__', '__len__', '__lt__', '__mul__', '__ne__', '__new__', '__reduce__', '__reduce_ex__', '__repr__', '__reversed__', '__rmul__', '__setattr__', '__setitem__', '__sizeof__', '__str__', '__subclasshook__', 'append', 'clear', 'copy', 'count', 'extend', 'index', 'insert', 'pop', 'remove', 'reverse', 'sort']\n"
     ]
    }
   ],
   "source": [
    "print(dir(list))"
   ]
  },
  {
   "cell_type": "code",
   "execution_count": 13,
   "id": "b9fa6751",
   "metadata": {},
   "outputs": [
    {
     "name": "stdout",
     "output_type": "stream",
     "text": [
      "['__abs__', '__add__', '__and__', '__bool__', '__ceil__', '__class__', '__delattr__', '__dir__', '__divmod__', '__doc__', '__eq__', '__float__', '__floor__', '__floordiv__', '__format__', '__ge__', '__getattribute__', '__getnewargs__', '__gt__', '__hash__', '__index__', '__init__', '__init_subclass__', '__int__', '__invert__', '__le__', '__lshift__', '__lt__', '__mod__', '__mul__', '__ne__', '__neg__', '__new__', '__or__', '__pos__', '__pow__', '__radd__', '__rand__', '__rdivmod__', '__reduce__', '__reduce_ex__', '__repr__', '__rfloordiv__', '__rlshift__', '__rmod__', '__rmul__', '__ror__', '__round__', '__rpow__', '__rrshift__', '__rshift__', '__rsub__', '__rtruediv__', '__rxor__', '__setattr__', '__sizeof__', '__str__', '__sub__', '__subclasshook__', '__truediv__', '__trunc__', '__xor__', 'bit_length', 'conjugate', 'denominator', 'from_bytes', 'imag', 'numerator', 'real', 'to_bytes']\n"
     ]
    }
   ],
   "source": [
    "print(dir(int))"
   ]
  },
  {
   "cell_type": "code",
   "execution_count": 17,
   "id": "ba5451ab",
   "metadata": {},
   "outputs": [
    {
     "name": "stdout",
     "output_type": "stream",
     "text": [
      "int([x]) -> integer\n",
      "int(x, base=10) -> integer\n",
      "\n",
      "Convert a number or string to an integer, or return 0 if no arguments\n",
      "are given.  If x is a number, return x.__int__().  For floating point\n",
      "numbers, this truncates towards zero.\n",
      "\n",
      "If x is not a number or if base is given, then x must be a string,\n",
      "bytes, or bytearray instance representing an integer literal in the\n",
      "given base.  The literal can be preceded by '+' or '-' and be surrounded\n",
      "by whitespace.  The base defaults to 10.  Valid bases are 0 and 2-36.\n",
      "Base 0 means to interpret the base from the string as an integer literal.\n",
      ">>> int('0b100', base=0)\n",
      "4\n"
     ]
    }
   ],
   "source": [
    "print(int.__doc__)"
   ]
  },
  {
   "cell_type": "code",
   "execution_count": 15,
   "id": "a168690f",
   "metadata": {},
   "outputs": [
    {
     "name": "stdout",
     "output_type": "stream",
     "text": [
      "Built-in mutable sequence.\n",
      "\n",
      "If no argument is given, the constructor creates a new empty list.\n",
      "The argument must be an iterable if specified.\n"
     ]
    }
   ],
   "source": [
    "print(list.__doc__)"
   ]
  },
  {
   "cell_type": "code",
   "execution_count": 16,
   "id": "dcdd46b1",
   "metadata": {
    "collapsed": true
   },
   "outputs": [
    {
     "name": "stdout",
     "output_type": "stream",
     "text": [
      "Help on class list in module builtins:\n",
      "\n",
      "class list(object)\n",
      " |  list(iterable=(), /)\n",
      " |  \n",
      " |  Built-in mutable sequence.\n",
      " |  \n",
      " |  If no argument is given, the constructor creates a new empty list.\n",
      " |  The argument must be an iterable if specified.\n",
      " |  \n",
      " |  Methods defined here:\n",
      " |  \n",
      " |  __add__(self, value, /)\n",
      " |      Return self+value.\n",
      " |  \n",
      " |  __contains__(self, key, /)\n",
      " |      Return key in self.\n",
      " |  \n",
      " |  __delitem__(self, key, /)\n",
      " |      Delete self[key].\n",
      " |  \n",
      " |  __eq__(self, value, /)\n",
      " |      Return self==value.\n",
      " |  \n",
      " |  __ge__(self, value, /)\n",
      " |      Return self>=value.\n",
      " |  \n",
      " |  __getattribute__(self, name, /)\n",
      " |      Return getattr(self, name).\n",
      " |  \n",
      " |  __getitem__(...)\n",
      " |      x.__getitem__(y) <==> x[y]\n",
      " |  \n",
      " |  __gt__(self, value, /)\n",
      " |      Return self>value.\n",
      " |  \n",
      " |  __iadd__(self, value, /)\n",
      " |      Implement self+=value.\n",
      " |  \n",
      " |  __imul__(self, value, /)\n",
      " |      Implement self*=value.\n",
      " |  \n",
      " |  __init__(self, /, *args, **kwargs)\n",
      " |      Initialize self.  See help(type(self)) for accurate signature.\n",
      " |  \n",
      " |  __iter__(self, /)\n",
      " |      Implement iter(self).\n",
      " |  \n",
      " |  __le__(self, value, /)\n",
      " |      Return self<=value.\n",
      " |  \n",
      " |  __len__(self, /)\n",
      " |      Return len(self).\n",
      " |  \n",
      " |  __lt__(self, value, /)\n",
      " |      Return self<value.\n",
      " |  \n",
      " |  __mul__(self, value, /)\n",
      " |      Return self*value.\n",
      " |  \n",
      " |  __ne__(self, value, /)\n",
      " |      Return self!=value.\n",
      " |  \n",
      " |  __repr__(self, /)\n",
      " |      Return repr(self).\n",
      " |  \n",
      " |  __reversed__(self, /)\n",
      " |      Return a reverse iterator over the list.\n",
      " |  \n",
      " |  __rmul__(self, value, /)\n",
      " |      Return value*self.\n",
      " |  \n",
      " |  __setitem__(self, key, value, /)\n",
      " |      Set self[key] to value.\n",
      " |  \n",
      " |  __sizeof__(self, /)\n",
      " |      Return the size of the list in memory, in bytes.\n",
      " |  \n",
      " |  append(self, object, /)\n",
      " |      Append object to the end of the list.\n",
      " |  \n",
      " |  clear(self, /)\n",
      " |      Remove all items from list.\n",
      " |  \n",
      " |  copy(self, /)\n",
      " |      Return a shallow copy of the list.\n",
      " |  \n",
      " |  count(self, value, /)\n",
      " |      Return number of occurrences of value.\n",
      " |  \n",
      " |  extend(self, iterable, /)\n",
      " |      Extend list by appending elements from the iterable.\n",
      " |  \n",
      " |  index(self, value, start=0, stop=9223372036854775807, /)\n",
      " |      Return first index of value.\n",
      " |      \n",
      " |      Raises ValueError if the value is not present.\n",
      " |  \n",
      " |  insert(self, index, object, /)\n",
      " |      Insert object before index.\n",
      " |  \n",
      " |  pop(self, index=-1, /)\n",
      " |      Remove and return item at index (default last).\n",
      " |      \n",
      " |      Raises IndexError if list is empty or index is out of range.\n",
      " |  \n",
      " |  remove(self, value, /)\n",
      " |      Remove first occurrence of value.\n",
      " |      \n",
      " |      Raises ValueError if the value is not present.\n",
      " |  \n",
      " |  reverse(self, /)\n",
      " |      Reverse *IN PLACE*.\n",
      " |  \n",
      " |  sort(self, /, *, key=None, reverse=False)\n",
      " |      Stable sort *IN PLACE*.\n",
      " |  \n",
      " |  ----------------------------------------------------------------------\n",
      " |  Static methods defined here:\n",
      " |  \n",
      " |  __new__(*args, **kwargs) from builtins.type\n",
      " |      Create and return a new object.  See help(type) for accurate signature.\n",
      " |  \n",
      " |  ----------------------------------------------------------------------\n",
      " |  Data and other attributes defined here:\n",
      " |  \n",
      " |  __hash__ = None\n",
      "\n"
     ]
    }
   ],
   "source": [
    "help(list)"
   ]
  },
  {
   "cell_type": "code",
   "execution_count": 20,
   "id": "d171a307",
   "metadata": {},
   "outputs": [
    {
     "name": "stdout",
     "output_type": "stream",
     "text": [
      "45 56\n",
      "['45', '56'] <class 'list'>\n",
      "[45, 56] <class 'list'>\n"
     ]
    }
   ],
   "source": [
    "p = input().split()\n",
    "print(p,type(p))\n",
    "q = []\n",
    "for i in p:\n",
    "    q.append(int(i))\n",
    "print(q,type(q))"
   ]
  },
  {
   "cell_type": "code",
   "execution_count": 26,
   "id": "daf96a16",
   "metadata": {},
   "outputs": [
    {
     "name": "stdout",
     "output_type": "stream",
     "text": [
      "12 5\n",
      "Addition of 12 and 5 is: 17\n",
      "[12, 5] <class 'list'>\n"
     ]
    }
   ],
   "source": [
    "b = list(map(int,input().split()))\n",
    "print(\"Addition of {} and {} is: {}\".format(b[0],b[1],sum(b)))\n",
    "print(b,type(b))"
   ]
  },
  {
   "cell_type": "code",
   "execution_count": 24,
   "id": "a04e7ed7",
   "metadata": {},
   "outputs": [
    {
     "name": "stdout",
     "output_type": "stream",
     "text": [
      "15\n"
     ]
    }
   ],
   "source": [
    "d = [12,3]\n",
    "print(sum(d))"
   ]
  },
  {
   "cell_type": "code",
   "execution_count": 28,
   "id": "5b6b9e6d",
   "metadata": {},
   "outputs": [
    {
     "name": "stdout",
     "output_type": "stream",
     "text": [
      "12\n",
      "3\n",
      "Addition of 12 and 3 is: 15\n"
     ]
    }
   ],
   "source": [
    "# 1.With returntype and with arguments\n",
    "# Reading: Main\n",
    "# Printing: Main\n",
    "# Logic: Function\n",
    "def ad(d,e):\n",
    "    return d+e\n",
    "\n",
    "# main\n",
    "a = int(input())\n",
    "b = int(input())\n",
    "print(\"Addition of {} and {} is: {}\".format(a,b,ad(a,b)))"
   ]
  },
  {
   "cell_type": "code",
   "execution_count": 29,
   "id": "9077ffc0",
   "metadata": {},
   "outputs": [
    {
     "name": "stdout",
     "output_type": "stream",
     "text": [
      "12\n",
      "3\n",
      "Addition of 12 and 3 is:15\n"
     ]
    }
   ],
   "source": [
    "# 1.With returntype and without arguments\n",
    "# Reading: Function\n",
    "# Printing: Main\n",
    "# Logic: Function\n",
    "def ad():\n",
    "    d = int(input())\n",
    "    e = int(input())\n",
    "    print(\"Addition of {} and {} is:\".format(d,e),end=\"\")\n",
    "    return d+e\n",
    "\n",
    "# main\n",
    "print(ad())"
   ]
  },
  {
   "cell_type": "code",
   "execution_count": 32,
   "id": "9596b8ec",
   "metadata": {},
   "outputs": [
    {
     "name": "stdout",
     "output_type": "stream",
     "text": [
      "12\n",
      "3\n",
      "Addition of 12 and 3 is: 15\n",
      "None\n"
     ]
    }
   ],
   "source": [
    "# 3.Without returntype and with arguments\n",
    "# Reading: Main\n",
    "# Printing: Function\n",
    "# Logic: Function\n",
    "def ad(d,e):\n",
    "    print(\"Addition of {} and {} is: {}\".format(d,e,d+e))\n",
    "    return\n",
    "\n",
    "# main\n",
    "a = int(input())\n",
    "b = int(input())\n",
    "ad(a,b)"
   ]
  },
  {
   "cell_type": "code",
   "execution_count": 33,
   "id": "08626d00",
   "metadata": {},
   "outputs": [
    {
     "name": "stdout",
     "output_type": "stream",
     "text": [
      "12\n",
      "3\n",
      "Addition of 12 and 3 is: 15\n"
     ]
    }
   ],
   "source": [
    "# 4.Without returntype and without arguments\n",
    "# Reading: Function\n",
    "# Printing: Function\n",
    "# Logic: Function\n",
    "def ad():\n",
    "    a = int(input())\n",
    "    b = int(input())\n",
    "    print(\"Addition of {} and {} is: {}\".format(a,b,a+b))\n",
    "    return\n",
    "\n",
    "# main\n",
    "ad()"
   ]
  },
  {
   "cell_type": "markdown",
   "id": "2535eddb",
   "metadata": {},
   "source": [
    "## Argument Types"
   ]
  },
  {
   "cell_type": "code",
   "execution_count": 37,
   "id": "2b172d77",
   "metadata": {},
   "outputs": [
    {
     "name": "stdout",
     "output_type": "stream",
     "text": [
      "12\n",
      "3\n",
      "6\n"
     ]
    },
    {
     "ename": "TypeError",
     "evalue": "fd() takes 2 positional arguments but 3 were given",
     "output_type": "error",
     "traceback": [
      "\u001b[1;31m---------------------------------------------------------------------\u001b[0m",
      "\u001b[1;31mTypeError\u001b[0m                           Traceback (most recent call last)",
      "\u001b[1;32m<ipython-input-37-0a644dfaf778>\u001b[0m in \u001b[0;36m<module>\u001b[1;34m\u001b[0m\n\u001b[0;32m      7\u001b[0m \u001b[0mb\u001b[0m \u001b[1;33m=\u001b[0m \u001b[0mint\u001b[0m\u001b[1;33m(\u001b[0m\u001b[0minput\u001b[0m\u001b[1;33m(\u001b[0m\u001b[1;33m)\u001b[0m\u001b[1;33m)\u001b[0m\u001b[1;33m\u001b[0m\u001b[1;33m\u001b[0m\u001b[0m\n\u001b[0;32m      8\u001b[0m \u001b[0mc\u001b[0m \u001b[1;33m=\u001b[0m \u001b[0mint\u001b[0m\u001b[1;33m(\u001b[0m\u001b[0minput\u001b[0m\u001b[1;33m(\u001b[0m\u001b[1;33m)\u001b[0m\u001b[1;33m)\u001b[0m\u001b[1;33m\u001b[0m\u001b[1;33m\u001b[0m\u001b[0m\n\u001b[1;32m----> 9\u001b[1;33m \u001b[0mfd\u001b[0m\u001b[1;33m(\u001b[0m\u001b[0ma\u001b[0m\u001b[1;33m,\u001b[0m\u001b[0mb\u001b[0m\u001b[1;33m,\u001b[0m\u001b[0mc\u001b[0m\u001b[1;33m)\u001b[0m\u001b[1;33m\u001b[0m\u001b[1;33m\u001b[0m\u001b[0m\n\u001b[0m",
      "\u001b[1;31mTypeError\u001b[0m: fd() takes 2 positional arguments but 3 were given"
     ]
    }
   ],
   "source": [
    "# required or positional arguments\n",
    "def fd(d,e):\n",
    "    print(f\"Entered number are: {d} and {e}\")\n",
    "    return\n",
    "\n",
    "a = int(input())\n",
    "b = int(input())\n",
    "c = int(input())\n",
    "fd(a,b,c)"
   ]
  },
  {
   "cell_type": "code",
   "execution_count": 42,
   "id": "d96a8f51",
   "metadata": {},
   "outputs": [
    {
     "ename": "SyntaxError",
     "evalue": "non-default argument follows default argument (<ipython-input-42-4a83b074aa39>, line 2)",
     "output_type": "error",
     "traceback": [
      "\u001b[1;36m  File \u001b[1;32m\"<ipython-input-42-4a83b074aa39>\"\u001b[1;36m, line \u001b[1;32m2\u001b[0m\n\u001b[1;33m    def fg(d,e=20,f):\u001b[0m\n\u001b[1;37m          ^\u001b[0m\n\u001b[1;31mSyntaxError\u001b[0m\u001b[1;31m:\u001b[0m non-default argument follows default argument\n"
     ]
    }
   ],
   "source": [
    "# Default argument\n",
    "def fg(d,e=20,f):\n",
    "    print(\"Entered numbers are: {} and {}\".format(d,e))\n",
    "    return\n",
    "\n",
    "a = int(input())\n",
    "b = int(input())\n",
    "fg(a,b)\n",
    "# fg(a)"
   ]
  },
  {
   "cell_type": "code",
   "execution_count": 45,
   "id": "d5dab5ef",
   "metadata": {},
   "outputs": [
    {
     "name": "stdout",
     "output_type": "stream",
     "text": [
      "Lakshman\n",
      "12\n"
     ]
    },
    {
     "ename": "TypeError",
     "evalue": "gf() got an unexpected keyword argument 'sage'",
     "output_type": "error",
     "traceback": [
      "\u001b[1;31m---------------------------------------------------------------------\u001b[0m",
      "\u001b[1;31mTypeError\u001b[0m                           Traceback (most recent call last)",
      "\u001b[1;32m<ipython-input-45-cada6db00710>\u001b[0m in \u001b[0;36m<module>\u001b[1;34m\u001b[0m\n\u001b[0;32m      6\u001b[0m \u001b[0msn\u001b[0m \u001b[1;33m=\u001b[0m \u001b[0minput\u001b[0m\u001b[1;33m(\u001b[0m\u001b[1;33m)\u001b[0m\u001b[1;33m\u001b[0m\u001b[1;33m\u001b[0m\u001b[0m\n\u001b[0;32m      7\u001b[0m \u001b[0msa\u001b[0m \u001b[1;33m=\u001b[0m \u001b[0mint\u001b[0m\u001b[1;33m(\u001b[0m\u001b[0minput\u001b[0m\u001b[1;33m(\u001b[0m\u001b[1;33m)\u001b[0m\u001b[1;33m)\u001b[0m\u001b[1;33m\u001b[0m\u001b[1;33m\u001b[0m\u001b[0m\n\u001b[1;32m----> 8\u001b[1;33m \u001b[0mgf\u001b[0m\u001b[1;33m(\u001b[0m\u001b[0msage\u001b[0m\u001b[1;33m=\u001b[0m\u001b[0msa\u001b[0m\u001b[1;33m,\u001b[0m\u001b[0msname\u001b[0m\u001b[1;33m=\u001b[0m\u001b[0msn\u001b[0m\u001b[1;33m)\u001b[0m\u001b[1;33m\u001b[0m\u001b[1;33m\u001b[0m\u001b[0m\n\u001b[0m",
      "\u001b[1;31mTypeError\u001b[0m: gf() got an unexpected keyword argument 'sage'"
     ]
    }
   ],
   "source": [
    "# Keyword Argument\n",
    "def gf(sname,age):\n",
    "    print(\"Student Name is: {}\\nStudent Age is: {}\".format(sname,age))\n",
    "    return\n",
    "\n",
    "sn = input()\n",
    "sa = int(input())\n",
    "gf(sage=sa,sname=sn)"
   ]
  },
  {
   "cell_type": "code",
   "execution_count": 50,
   "id": "d47f8baf",
   "metadata": {},
   "outputs": [
    {
     "name": "stdout",
     "output_type": "stream",
     "text": [
      "Manoj <class 'str'>\n",
      "(45, 45, 78, 65, 89, 45) <class 'tuple'>\n"
     ]
    }
   ],
   "source": [
    "# Variable Length argument\n",
    "def gh(a,*p):\n",
    "    print(a,type(a))\n",
    "    print(p,type(p))\n",
    "    return\n",
    "\n",
    "gh(\"Manoj\",45,45,78,65,89,45)"
   ]
  },
  {
   "cell_type": "code",
   "execution_count": 55,
   "id": "4c7922bf",
   "metadata": {},
   "outputs": [
    {
     "ename": "SyntaxError",
     "evalue": "positional argument follows keyword argument (<ipython-input-55-60798ff6edd6>, line 8)",
     "output_type": "error",
     "traceback": [
      "\u001b[1;36m  File \u001b[1;32m\"<ipython-input-55-60798ff6edd6>\"\u001b[1;36m, line \u001b[1;32m8\u001b[0m\n\u001b[1;33m    gh(\"Manoj\",45,45,gender=\"M\",78,\"Suresh\",65,89,45,name=\"Giri\",age=25,sal=25000)\u001b[0m\n\u001b[1;37m                               ^\u001b[0m\n\u001b[1;31mSyntaxError\u001b[0m\u001b[1;31m:\u001b[0m positional argument follows keyword argument\n"
     ]
    }
   ],
   "source": [
    "# Variable Length argument\n",
    "def gh(a,*p,**m):\n",
    "    print(a,type(a))\n",
    "    print(p,type(p))\n",
    "    print(m,type(m))\n",
    "    return\n",
    "\n",
    "gh(\"Manoj\",45,45,gender=\"M\",78,\"Suresh\",65,89,45,name=\"Giri\",age=25,sal=25000)"
   ]
  },
  {
   "cell_type": "code",
   "execution_count": 56,
   "id": "49c3e1d7",
   "metadata": {},
   "outputs": [],
   "source": [
    "a=['orange','black','pigeon','yellow']\n"
   ]
  },
  {
   "cell_type": "code",
   "execution_count": 57,
   "id": "13a9ac64",
   "metadata": {},
   "outputs": [
    {
     "ename": "SyntaxError",
     "evalue": "invalid syntax (<ipython-input-57-4435239c6d4a>, line 1)",
     "output_type": "error",
     "traceback": [
      "\u001b[1;36m  File \u001b[1;32m\"<ipython-input-57-4435239c6d4a>\"\u001b[1;36m, line \u001b[1;32m1\u001b[0m\n\u001b[1;33m    a{0}\u001b[0m\n\u001b[1;37m     ^\u001b[0m\n\u001b[1;31mSyntaxError\u001b[0m\u001b[1;31m:\u001b[0m invalid syntax\n"
     ]
    }
   ],
   "source": []
  },
  {
   "cell_type": "code",
   "execution_count": 58,
   "id": "96803105",
   "metadata": {},
   "outputs": [
    {
     "name": "stdout",
     "output_type": "stream",
     "text": [
      "{} <class 'dict'>\n",
      "{12} <class 'set'>\n"
     ]
    }
   ],
   "source": [
    "t = {}\n",
    "g = {12}\n",
    "print(t,type(t))\n",
    "print(g,type(g))"
   ]
  },
  {
   "cell_type": "code",
   "execution_count": 62,
   "id": "b1a01c70",
   "metadata": {},
   "outputs": [
    {
     "name": "stdout",
     "output_type": "stream",
     "text": [
      "{1, 2.01, 2.001, 'Arun', 45, 'Prasad', '2.0'}\n"
     ]
    },
    {
     "data": {
      "text/plain": [
       "{1, '2.0', 2.001, 2.01, 45, 'Arun', 'Prasad'}"
      ]
     },
     "execution_count": 62,
     "metadata": {},
     "output_type": "execute_result"
    }
   ],
   "source": [
    "j = {1,45,2.01,'2.0',2.001,'Prasad','Arun'}\n",
    "print(j)\n",
    "j"
   ]
  },
  {
   "cell_type": "code",
   "execution_count": 2,
   "id": "fcc1e02c",
   "metadata": {},
   "outputs": [],
   "source": [
    "from AVEV import demo"
   ]
  },
  {
   "cell_type": "code",
   "execution_count": 3,
   "id": "e04a2295",
   "metadata": {},
   "outputs": [
    {
     "name": "stdout",
     "output_type": "stream",
     "text": [
      "['__builtins__', '__cached__', '__doc__', '__file__', '__loader__', '__name__', '__package__', '__spec__', 'a', 'dg']\n"
     ]
    }
   ],
   "source": [
    "print(dir(demo))"
   ]
  },
  {
   "cell_type": "code",
   "execution_count": 65,
   "id": "2bfe3b94",
   "metadata": {},
   "outputs": [
    {
     "data": {
      "text/plain": [
       "10"
      ]
     },
     "execution_count": 65,
     "metadata": {},
     "output_type": "execute_result"
    }
   ],
   "source": [
    "demo.a"
   ]
  },
  {
   "cell_type": "code",
   "execution_count": 5,
   "id": "d0330cd1",
   "metadata": {},
   "outputs": [
    {
     "data": {
      "text/plain": [
       "15"
      ]
     },
     "execution_count": 5,
     "metadata": {},
     "output_type": "execute_result"
    }
   ],
   "source": [
    "demo.dg(12,3)"
   ]
  },
  {
   "cell_type": "code",
   "execution_count": 6,
   "id": "bcf5f63c",
   "metadata": {},
   "outputs": [
    {
     "name": "stdout",
     "output_type": "stream",
     "text": [
      "['__builtins__', '__cached__', '__doc__', '__file__', '__loader__', '__name__', '__package__', '__spec__', 'a', 'dg']\n"
     ]
    }
   ],
   "source": [
    "print(dir(demo))"
   ]
  },
  {
   "cell_type": "code",
   "execution_count": 7,
   "id": "2470762b",
   "metadata": {},
   "outputs": [],
   "source": [
    "from AVEV.demo import dg"
   ]
  },
  {
   "cell_type": "code",
   "execution_count": 8,
   "id": "499094a4",
   "metadata": {},
   "outputs": [
    {
     "name": "stdout",
     "output_type": "stream",
     "text": [
      "['__annotations__', '__call__', '__class__', '__closure__', '__code__', '__defaults__', '__delattr__', '__dict__', '__dir__', '__doc__', '__eq__', '__format__', '__ge__', '__get__', '__getattribute__', '__globals__', '__gt__', '__hash__', '__init__', '__init_subclass__', '__kwdefaults__', '__le__', '__lt__', '__module__', '__name__', '__ne__', '__new__', '__qualname__', '__reduce__', '__reduce_ex__', '__repr__', '__setattr__', '__sizeof__', '__str__', '__subclasshook__']\n"
     ]
    }
   ],
   "source": [
    "print(dir(dg))"
   ]
  },
  {
   "cell_type": "code",
   "execution_count": 9,
   "id": "6ae5cbb6",
   "metadata": {},
   "outputs": [
    {
     "data": {
      "text/plain": [
       "4"
      ]
     },
     "execution_count": 9,
     "metadata": {},
     "output_type": "execute_result"
    }
   ],
   "source": [
    "dg(1,3)"
   ]
  },
  {
   "cell_type": "code",
   "execution_count": 1,
   "id": "61be09fc",
   "metadata": {},
   "outputs": [],
   "source": [
    "from AVEV import demo"
   ]
  },
  {
   "cell_type": "code",
   "execution_count": 2,
   "id": "3de4cfaa",
   "metadata": {},
   "outputs": [
    {
     "name": "stdout",
     "output_type": "stream",
     "text": [
      "['Student', '__builtins__', '__cached__', '__doc__', '__file__', '__loader__', '__name__', '__package__', '__spec__', 'a', 'dg']\n"
     ]
    }
   ],
   "source": [
    "print(dir(demo))"
   ]
  },
  {
   "cell_type": "code",
   "execution_count": 3,
   "id": "8bea58ae",
   "metadata": {},
   "outputs": [],
   "source": [
    "from AVEV.demo import Student"
   ]
  },
  {
   "cell_type": "code",
   "execution_count": 4,
   "id": "04bef16e",
   "metadata": {},
   "outputs": [
    {
     "name": "stdout",
     "output_type": "stream",
     "text": [
      "['__class__', '__delattr__', '__dict__', '__dir__', '__doc__', '__eq__', '__format__', '__ge__', '__getattribute__', '__gt__', '__hash__', '__init__', '__init_subclass__', '__le__', '__lt__', '__module__', '__ne__', '__new__', '__reduce__', '__reduce_ex__', '__repr__', '__setattr__', '__sizeof__', '__str__', '__subclasshook__', '__weakref__', 'marks', 'stdinfo']\n"
     ]
    }
   ],
   "source": [
    "print(dir(Student))"
   ]
  },
  {
   "cell_type": "code",
   "execution_count": 5,
   "id": "67194b20",
   "metadata": {},
   "outputs": [
    {
     "name": "stdout",
     "output_type": "stream",
     "text": [
      "Studnet Marks:\n"
     ]
    }
   ],
   "source": [
    "Student.marks()"
   ]
  },
  {
   "cell_type": "code",
   "execution_count": 6,
   "id": "3c88743d",
   "metadata": {},
   "outputs": [
    {
     "name": "stdout",
     "output_type": "stream",
     "text": [
      "Student Record:\n"
     ]
    }
   ],
   "source": [
    "Student.stdinfo()"
   ]
  },
  {
   "cell_type": "code",
   "execution_count": null,
   "id": "166316aa",
   "metadata": {},
   "outputs": [],
   "source": [
    "from AVEV.demo import * "
   ]
  }
 ],
 "metadata": {
  "kernelspec": {
   "display_name": "Python 3",
   "language": "python",
   "name": "python3"
  },
  "language_info": {
   "codemirror_mode": {
    "name": "ipython",
    "version": 3
   },
   "file_extension": ".py",
   "mimetype": "text/x-python",
   "name": "python",
   "nbconvert_exporter": "python",
   "pygments_lexer": "ipython3",
   "version": "3.7.5"
  }
 },
 "nbformat": 4,
 "nbformat_minor": 5
}
